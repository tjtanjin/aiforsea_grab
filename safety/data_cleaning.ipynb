{
 "cells": [
  {
   "cell_type": "markdown",
   "metadata": {},
   "source": [
    "# Data Cleaning"
   ]
  },
  {
   "cell_type": "markdown",
   "metadata": {},
   "source": [
    "### Import libraries"
   ]
  },
  {
   "cell_type": "code",
   "execution_count": 1,
   "metadata": {},
   "outputs": [],
   "source": [
    "import pandas as pd\n",
    "import numpy as np"
   ]
  },
  {
   "cell_type": "markdown",
   "metadata": {},
   "source": [
    "Read in combined.csv file and labels file."
   ]
  },
  {
   "cell_type": "code",
   "execution_count": 2,
   "metadata": {},
   "outputs": [],
   "source": [
    "combined_df = pd.read_csv(\"./data/combined.csv\")\n",
    "label_df = pd.read_csv(\"./labels/part-00000-e9445087-aa0a-433b-a7f6-7f4c19d78ad6-c000.csv\")"
   ]
  },
  {
   "cell_type": "markdown",
   "metadata": {},
   "source": [
    "Since all duplicated IDs have mismatching labels, drop all duplicates from both label df and combined df."
   ]
  },
  {
   "cell_type": "code",
   "execution_count": 3,
   "metadata": {},
   "outputs": [],
   "source": [
    "dup_list = label_df[label_df.duplicated(subset=[\"bookingID\"], keep='first')][\"bookingID\"].tolist()\n",
    "label_df.drop_duplicates(subset=[\"bookingID\"], keep=False, inplace=True)"
   ]
  },
  {
   "cell_type": "code",
   "execution_count": 4,
   "metadata": {},
   "outputs": [],
   "source": [
    "for bookingID in dup_list:\n",
    "    combined_df = combined_df[combined_df.bookingID != bookingID]\n",
    "combined_df = filter_duplicate(combined_df)"
   ]
  },
  {
   "cell_type": "markdown",
   "metadata": {},
   "source": [
    "Check Accuracy column and flag out IDs which contains values that lie outside the 99th percentile. For IDs that have more than 20% of their rows flagged as inaccurate, the ID will be dropped entirely. Else, only the inaccurate rows for the ID will be dropped."
   ]
  },
  {
   "cell_type": "code",
   "execution_count": 5,
   "metadata": {},
   "outputs": [
    {
     "name": "stdout",
     "output_type": "stream",
     "text": [
      "Checking Accuracy for 2799 IDs: 2799/2799\n",
      "Total number of IDs fully dropped: 236\n"
     ]
    }
   ],
   "source": [
    "low_acc_id = combined_df.loc[combined_df['Accuracy'] > combined_df[\"Accuracy\"].quantile(0.99)].bookingID.value_counts().to_dict()\n",
    "dropped_ids = []\n",
    "for iteration, (bookingID, counts) in enumerate(low_acc_id.items()):\n",
    "    if len(combined_df.loc[combined_df['bookingID'] == bookingID]) * 0.2 < counts:\n",
    "        combined_df = combined_df[combined_df[\"bookingID\"] != bookingID]\n",
    "        dropped_ids.append(bookingID)\n",
    "    else:\n",
    "        combined_df.drop(combined_df[(combined_df['bookingID'] == bookingID) & (combined_df['Accuracy'] > combined_df[\"Accuracy\"].quantile(0.99))].index, inplace=True)\n",
    "    print(\"Checking Accuracy for {} IDs: {}/{}\".format(len(low_acc_id), iteration+1, len(low_acc_id)), end='\\r', flush=True)\n",
    "print(\"\\nTotal number of IDs fully dropped: {}\".format(len(dropped_ids)))"
   ]
  },
  {
   "cell_type": "markdown",
   "metadata": {},
   "source": [
    "Check Speed column and flag out IDs which contains values that are less than 0 (negative). For IDs that have more than 20% of their rows flagged as inaccurate, the ID will be dropped entirely. Else, only the inaccurate rows for the ID will be dropped."
   ]
  },
  {
   "cell_type": "code",
   "execution_count": 6,
   "metadata": {},
   "outputs": [
    {
     "name": "stdout",
     "output_type": "stream",
     "text": [
      "Checking Speed for 7510 IDs: 7510/7510\n",
      "Total number of IDs fully dropped: 50\n"
     ]
    }
   ],
   "source": [
    "low_acc_id = combined_df.loc[combined_df['Speed'] < 0].bookingID.value_counts().to_dict()\n",
    "dropped_ids = []\n",
    "for iteration, (bookingID, counts) in enumerate(low_acc_id.items()):\n",
    "    if len(combined_df.loc[combined_df['bookingID'] == bookingID]) * 0.2 < counts:\n",
    "        combined_df = combined_df[combined_df[\"bookingID\"] != bookingID]\n",
    "        dropped_ids.append(bookingID)\n",
    "    else:\n",
    "        combined_df.drop(combined_df[(combined_df['bookingID'] == bookingID) & (combined_df['Speed'] < 0)].index, inplace=True)\n",
    "    print(\"Checking Speed for {} IDs: {}/{}\".format(len(low_acc_id), iteration+1, len(low_acc_id)), end='\\r', flush=True)\n",
    "print(\"\\nTotal number of IDs fully dropped: {}\".format(len(dropped_ids)))"
   ]
  },
  {
   "cell_type": "markdown",
   "metadata": {},
   "source": [
    "Save the filtered combine df to csv."
   ]
  },
  {
   "cell_type": "code",
   "execution_count": 7,
   "metadata": {},
   "outputs": [],
   "source": [
    "combined_df.to_csv(\"./data/final_filtered.csv\", index=False)"
   ]
  },
  {
   "cell_type": "markdown",
   "metadata": {},
   "source": [
    "Remove the dropped IDs from the label df as well and save to csv."
   ]
  },
  {
   "cell_type": "code",
   "execution_count": 8,
   "metadata": {},
   "outputs": [],
   "source": [
    "label_ids = label_df['bookingID'].tolist()\n",
    "combined_ids = combined_df['bookingID'].unique().tolist()\n",
    "dropped_ids = [x for x in label_ids if x not in combined_ids]\n",
    "for ids in dropped_ids:\n",
    "    label_df.drop(label_df[label_df['bookingID'] == ids].index, inplace=True)\n",
    "label_df = label_df.sort_values(by=['bookingID'])\n",
    "label_df.to_csv(\"./data/final_labels.csv\", index=False)"
   ]
  }
 ],
 "metadata": {
  "kernelspec": {
   "display_name": "Python 3",
   "language": "python",
   "name": "python3"
  },
  "language_info": {
   "codemirror_mode": {
    "name": "ipython",
    "version": 3
   },
   "file_extension": ".py",
   "mimetype": "text/x-python",
   "name": "python",
   "nbconvert_exporter": "python",
   "pygments_lexer": "ipython3",
   "version": "3.7.3"
  }
 },
 "nbformat": 4,
 "nbformat_minor": 2
}
