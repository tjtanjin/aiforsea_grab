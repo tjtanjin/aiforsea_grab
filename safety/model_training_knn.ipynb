{
 "cells": [
  {
   "cell_type": "markdown",
   "metadata": {},
   "source": [
    "# Model Training (KNN)"
   ]
  },
  {
   "cell_type": "markdown",
   "metadata": {},
   "source": [
    "### Import libraries"
   ]
  },
  {
   "cell_type": "code",
   "execution_count": 1,
   "metadata": {},
   "outputs": [],
   "source": [
    "import pandas as pd\n",
    "import numpy as np\n",
    "import pickle\n",
    "import matplotlib.pyplot as plt\n",
    "import joblib\n",
    "\n",
    "from sklearn.model_selection import train_test_split\n",
    "from sklearn.neighbors import KNeighborsClassifier\n",
    "from sklearn.model_selection import cross_val_score\n",
    "from sklearn.metrics import f1_score\n",
    "from sklearn.metrics import confusion_matrix"
   ]
  },
  {
   "cell_type": "markdown",
   "metadata": {},
   "source": [
    "Read in processed file and labels file then combine them."
   ]
  },
  {
   "cell_type": "code",
   "execution_count": 2,
   "metadata": {},
   "outputs": [
    {
     "data": {
      "text/html": [
       "<div>\n",
       "<style scoped>\n",
       "    .dataframe tbody tr th:only-of-type {\n",
       "        vertical-align: middle;\n",
       "    }\n",
       "\n",
       "    .dataframe tbody tr th {\n",
       "        vertical-align: top;\n",
       "    }\n",
       "\n",
       "    .dataframe thead th {\n",
       "        text-align: right;\n",
       "    }\n",
       "</style>\n",
       "<table border=\"1\" class=\"dataframe\">\n",
       "  <thead>\n",
       "    <tr style=\"text-align: right;\">\n",
       "      <th></th>\n",
       "      <th>bookingID</th>\n",
       "      <th>Accuracy</th>\n",
       "      <th>Speed</th>\n",
       "      <th>acceleration</th>\n",
       "      <th>gyro</th>\n",
       "      <th>second</th>\n",
       "      <th>label</th>\n",
       "    </tr>\n",
       "  </thead>\n",
       "  <tbody>\n",
       "    <tr>\n",
       "      <th>0</th>\n",
       "      <td>0</td>\n",
       "      <td>10.127617</td>\n",
       "      <td>22.946083</td>\n",
       "      <td>12.988328</td>\n",
       "      <td>0.749086</td>\n",
       "      <td>1589.0</td>\n",
       "      <td>0</td>\n",
       "    </tr>\n",
       "    <tr>\n",
       "      <th>1</th>\n",
       "      <td>1</td>\n",
       "      <td>3.706486</td>\n",
       "      <td>21.882141</td>\n",
       "      <td>12.790147</td>\n",
       "      <td>0.717864</td>\n",
       "      <td>1034.0</td>\n",
       "      <td>1</td>\n",
       "    </tr>\n",
       "    <tr>\n",
       "      <th>2</th>\n",
       "      <td>2</td>\n",
       "      <td>3.930626</td>\n",
       "      <td>9.360483</td>\n",
       "      <td>13.403410</td>\n",
       "      <td>0.463685</td>\n",
       "      <td>825.0</td>\n",
       "      <td>1</td>\n",
       "    </tr>\n",
       "    <tr>\n",
       "      <th>3</th>\n",
       "      <td>4</td>\n",
       "      <td>10.000000</td>\n",
       "      <td>19.780001</td>\n",
       "      <td>21.053265</td>\n",
       "      <td>0.661675</td>\n",
       "      <td>1094.0</td>\n",
       "      <td>1</td>\n",
       "    </tr>\n",
       "    <tr>\n",
       "      <th>4</th>\n",
       "      <td>6</td>\n",
       "      <td>4.586721</td>\n",
       "      <td>16.394695</td>\n",
       "      <td>14.498268</td>\n",
       "      <td>0.626294</td>\n",
       "      <td>1094.0</td>\n",
       "      <td>0</td>\n",
       "    </tr>\n",
       "  </tbody>\n",
       "</table>\n",
       "</div>"
      ],
      "text/plain": [
       "   bookingID   Accuracy      Speed  acceleration      gyro  second  label\n",
       "0          0  10.127617  22.946083     12.988328  0.749086  1589.0      0\n",
       "1          1   3.706486  21.882141     12.790147  0.717864  1034.0      1\n",
       "2          2   3.930626   9.360483     13.403410  0.463685   825.0      1\n",
       "3          4  10.000000  19.780001     21.053265  0.661675  1094.0      1\n",
       "4          6   4.586721  16.394695     14.498268  0.626294  1094.0      0"
      ]
     },
     "execution_count": 2,
     "metadata": {},
     "output_type": "execute_result"
    }
   ],
   "source": [
    "data = pd.read_csv(\"./data/final_processed.csv\")\n",
    "labels = pd.read_csv(\"./data/final_labels.csv\")\n",
    "combined = pd.concat([data, labels.label], axis=1)\n",
    "combined.head()"
   ]
  },
  {
   "cell_type": "markdown",
   "metadata": {},
   "source": [
    "Separate training features and label."
   ]
  },
  {
   "cell_type": "code",
   "execution_count": 3,
   "metadata": {},
   "outputs": [],
   "source": [
    "x = combined.drop([\"label\",\"bookingID\"], axis=1)\n",
    "y = combined[['label']]"
   ]
  },
  {
   "cell_type": "markdown",
   "metadata": {},
   "source": [
    "Split dataset into 80% for training, 20% for testing."
   ]
  },
  {
   "cell_type": "code",
   "execution_count": 4,
   "metadata": {},
   "outputs": [],
   "source": [
    "x_train, x_test, y_train, y_test = train_test_split(x, y, train_size = 0.8, test_size = 0.2, random_state = 1)"
   ]
  },
  {
   "cell_type": "markdown",
   "metadata": {},
   "source": [
    "Find the best value for n_neighbors for the KNN classifier."
   ]
  },
  {
   "cell_type": "code",
   "execution_count": 5,
   "metadata": {},
   "outputs": [],
   "source": [
    "score = 0\n",
    "for i in range(1,301):\n",
    "    classifier = KNeighborsClassifier(n_neighbors = i)\n",
    "    classifier.fit(x_train,y_train.values.ravel())\n",
    "    if classifier.score(x_test,y_test) > score:\n",
    "        score = classifier.score(x_test,y_test)\n",
    "        n_neighbors = i"
   ]
  },
  {
   "cell_type": "markdown",
   "metadata": {},
   "source": [
    "Create the classifier using the best value and feed the training data into the classifier then save the trained model."
   ]
  },
  {
   "cell_type": "code",
   "execution_count": 6,
   "metadata": {},
   "outputs": [],
   "source": [
    "classifier = KNeighborsClassifier(n_neighbors = n_neighbors)\n",
    "classifier = classifier.fit(x_train,y_train.values.ravel())\n",
    "pickle.dump(classifier, open(\"./models/knn_model\", \"wb\"), protocol=4)"
   ]
  },
  {
   "cell_type": "markdown",
   "metadata": {},
   "source": [
    "Check the accuracy and f1_score for the prediction results and view its confusion matrix."
   ]
  },
  {
   "cell_type": "code",
   "execution_count": 7,
   "metadata": {},
   "outputs": [
    {
     "name": "stdout",
     "output_type": "stream",
     "text": [
      "Mean Score: 0.6655379791792522\n",
      "f1_score: 0.21827411167512686\n",
      "Confusion Matrix: 2887 59 865 129\n"
     ]
    }
   ],
   "source": [
    "y_pred = classifier.fit(x_train,y_train.values.ravel()).predict(x_test)\n",
    "scores = cross_val_score(classifier, x_train, y_train.values.ravel(), cv=10, scoring = \"roc_auc\")\n",
    "print(\"Mean Score: {}\".format(scores.mean()))\n",
    "print(\"f1_score: {}\".format(f1_score(y_test, y_pred)))\n",
    "tn, fp, fn, tp = confusion_matrix(y_test, y_pred).ravel()\n",
    "print(\"Confusion Matrix: {} {} {} {}\".format(tn, fp, fn, tp))"
   ]
  }
 ],
 "metadata": {
  "kernelspec": {
   "display_name": "Python 3",
   "language": "python",
   "name": "python3"
  },
  "language_info": {
   "codemirror_mode": {
    "name": "ipython",
    "version": 3
   },
   "file_extension": ".py",
   "mimetype": "text/x-python",
   "name": "python",
   "nbconvert_exporter": "python",
   "pygments_lexer": "ipython3",
   "version": "3.7.3"
  }
 },
 "nbformat": 4,
 "nbformat_minor": 2
}
